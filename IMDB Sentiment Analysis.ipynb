{
 "cells": [
  {
   "cell_type": "markdown",
   "id": "a35f3864",
   "metadata": {},
   "source": [
    "## IMDB Sentiment Analysis Project with NLTK"
   ]
  },
  {
   "cell_type": "markdown",
   "id": "3178155b",
   "metadata": {},
   "source": [
    "### importing packages and cleaning data"
   ]
  },
  {
   "cell_type": "code",
   "execution_count": 69,
   "id": "74d9d11a",
   "metadata": {},
   "outputs": [],
   "source": [
    "import numpy as np\n",
    "import pandas as pd\n",
    "import matplotlib.pyplot as plt\n",
    "import seaborn as sns\n",
    "plt.style.use('ggplot')"
   ]
  },
  {
   "cell_type": "code",
   "execution_count": 65,
   "id": "e8013ffe",
   "metadata": {
    "scrolled": false
   },
   "outputs": [
    {
     "data": {
      "text/html": [
       "<div>\n",
       "<style scoped>\n",
       "    .dataframe tbody tr th:only-of-type {\n",
       "        vertical-align: middle;\n",
       "    }\n",
       "\n",
       "    .dataframe tbody tr th {\n",
       "        vertical-align: top;\n",
       "    }\n",
       "\n",
       "    .dataframe thead th {\n",
       "        text-align: right;\n",
       "    }\n",
       "</style>\n",
       "<table border=\"1\" class=\"dataframe\">\n",
       "  <thead>\n",
       "    <tr style=\"text-align: right;\">\n",
       "      <th></th>\n",
       "      <th>review</th>\n",
       "      <th>sentiment</th>\n",
       "    </tr>\n",
       "  </thead>\n",
       "  <tbody>\n",
       "    <tr>\n",
       "      <th>0</th>\n",
       "      <td>One of the other reviewers has mentioned that ...</td>\n",
       "      <td>positive</td>\n",
       "    </tr>\n",
       "    <tr>\n",
       "      <th>1</th>\n",
       "      <td>A wonderful little production.   The filming t...</td>\n",
       "      <td>positive</td>\n",
       "    </tr>\n",
       "    <tr>\n",
       "      <th>2</th>\n",
       "      <td>I thought this was a wonderful way to spend ti...</td>\n",
       "      <td>positive</td>\n",
       "    </tr>\n",
       "    <tr>\n",
       "      <th>3</th>\n",
       "      <td>Basically there's a family where a little boy ...</td>\n",
       "      <td>negative</td>\n",
       "    </tr>\n",
       "    <tr>\n",
       "      <th>4</th>\n",
       "      <td>Petter Mattei's \"Love in the Time of Money\" is...</td>\n",
       "      <td>positive</td>\n",
       "    </tr>\n",
       "    <tr>\n",
       "      <th>...</th>\n",
       "      <td>...</td>\n",
       "      <td>...</td>\n",
       "    </tr>\n",
       "    <tr>\n",
       "      <th>49995</th>\n",
       "      <td>I thought this movie did a down right good job...</td>\n",
       "      <td>positive</td>\n",
       "    </tr>\n",
       "    <tr>\n",
       "      <th>49996</th>\n",
       "      <td>Bad plot, bad dialogue, bad acting, idiotic di...</td>\n",
       "      <td>negative</td>\n",
       "    </tr>\n",
       "    <tr>\n",
       "      <th>49997</th>\n",
       "      <td>I am a Catholic taught in parochial elementary...</td>\n",
       "      <td>negative</td>\n",
       "    </tr>\n",
       "    <tr>\n",
       "      <th>49998</th>\n",
       "      <td>I'm going to have to disagree with the previou...</td>\n",
       "      <td>negative</td>\n",
       "    </tr>\n",
       "    <tr>\n",
       "      <th>49999</th>\n",
       "      <td>No one expects the Star Trek movies to be high...</td>\n",
       "      <td>negative</td>\n",
       "    </tr>\n",
       "  </tbody>\n",
       "</table>\n",
       "<p>50000 rows × 2 columns</p>\n",
       "</div>"
      ],
      "text/plain": [
       "                                                  review sentiment\n",
       "0      One of the other reviewers has mentioned that ...  positive\n",
       "1      A wonderful little production.   The filming t...  positive\n",
       "2      I thought this was a wonderful way to spend ti...  positive\n",
       "3      Basically there's a family where a little boy ...  negative\n",
       "4      Petter Mattei's \"Love in the Time of Money\" is...  positive\n",
       "...                                                  ...       ...\n",
       "49995  I thought this movie did a down right good job...  positive\n",
       "49996  Bad plot, bad dialogue, bad acting, idiotic di...  negative\n",
       "49997  I am a Catholic taught in parochial elementary...  negative\n",
       "49998  I'm going to have to disagree with the previou...  negative\n",
       "49999  No one expects the Star Trek movies to be high...  negative\n",
       "\n",
       "[50000 rows x 2 columns]"
      ]
     },
     "execution_count": 65,
     "metadata": {},
     "output_type": "execute_result"
    }
   ],
   "source": [
    "movie_reviews = pd.read_csv(\"IMDB Dataset.csv\")\n",
    "movie_reviews\n",
    "\n",
    "import re\n",
    "CLEANR = re.compile('<.*?>') \n",
    "for i in range(movie_reviews.shape[0]):\n",
    "    movie_reviews['review'].replace(movie_reviews.get('review').iloc[i], re.sub(CLEANR, ' ', movie_reviews.get('review').iloc[i]), inplace=True)\n",
    "    #movie_review.get('review').iloc[i] = re.sub(CLEANR, ' ', movie_reviews.get('review').iloc[0])\n",
    "movie_reviews"
   ]
  },
  {
   "cell_type": "markdown",
   "id": "9cb790f5",
   "metadata": {},
   "source": [
    "### using VADER (Valence Aware Dictionary for Sentiment Reasoning)"
   ]
  },
  {
   "cell_type": "code",
   "execution_count": 94,
   "id": "ef30b4e4",
   "metadata": {},
   "outputs": [],
   "source": [
    "import nltk\n",
    "#nltk.download('vader_lexicon')\n",
    "from nltk.sentiment.vader import SentimentIntensityAnalyzer\n",
    "sia = SentimentIntensityAnalyzer()"
   ]
  },
  {
   "cell_type": "code",
   "execution_count": 43,
   "id": "d6ae0a71",
   "metadata": {},
   "outputs": [
    {
     "data": {
      "text/plain": [
       "positive    25000\n",
       "negative    25000\n",
       "Name: sentiment, dtype: int64"
      ]
     },
     "execution_count": 43,
     "metadata": {},
     "output_type": "execute_result"
    }
   ],
   "source": [
    "movie_reviews['sentiment'].value_counts()"
   ]
  },
  {
   "cell_type": "code",
   "execution_count": 116,
   "id": "f8995ce4",
   "metadata": {},
   "outputs": [
    {
     "data": {
      "text/html": [
       "<div>\n",
       "<style scoped>\n",
       "    .dataframe tbody tr th:only-of-type {\n",
       "        vertical-align: middle;\n",
       "    }\n",
       "\n",
       "    .dataframe tbody tr th {\n",
       "        vertical-align: top;\n",
       "    }\n",
       "\n",
       "    .dataframe thead th {\n",
       "        text-align: right;\n",
       "    }\n",
       "</style>\n",
       "<table border=\"1\" class=\"dataframe\">\n",
       "  <thead>\n",
       "    <tr style=\"text-align: right;\">\n",
       "      <th></th>\n",
       "      <th>review</th>\n",
       "      <th>sentiment</th>\n",
       "      <th>scores</th>\n",
       "      <th>compound</th>\n",
       "      <th>comp_score</th>\n",
       "    </tr>\n",
       "  </thead>\n",
       "  <tbody>\n",
       "    <tr>\n",
       "      <th>0</th>\n",
       "      <td>One of the other reviewers has mentioned that ...</td>\n",
       "      <td>positive</td>\n",
       "      <td>{'neg': 0.206, 'neu': 0.745, 'pos': 0.049, 'co...</td>\n",
       "      <td>-0.9951</td>\n",
       "      <td>negative</td>\n",
       "    </tr>\n",
       "    <tr>\n",
       "      <th>1</th>\n",
       "      <td>A wonderful little production.   The filming t...</td>\n",
       "      <td>positive</td>\n",
       "      <td>{'neg': 0.055, 'neu': 0.768, 'pos': 0.177, 'co...</td>\n",
       "      <td>0.9641</td>\n",
       "      <td>positive</td>\n",
       "    </tr>\n",
       "    <tr>\n",
       "      <th>2</th>\n",
       "      <td>I thought this was a wonderful way to spend ti...</td>\n",
       "      <td>positive</td>\n",
       "      <td>{'neg': 0.093, 'neu': 0.689, 'pos': 0.218, 'co...</td>\n",
       "      <td>0.9780</td>\n",
       "      <td>positive</td>\n",
       "    </tr>\n",
       "    <tr>\n",
       "      <th>3</th>\n",
       "      <td>Basically there's a family where a little boy ...</td>\n",
       "      <td>negative</td>\n",
       "      <td>{'neg': 0.14, 'neu': 0.773, 'pos': 0.088, 'com...</td>\n",
       "      <td>-0.8819</td>\n",
       "      <td>negative</td>\n",
       "    </tr>\n",
       "    <tr>\n",
       "      <th>4</th>\n",
       "      <td>Petter Mattei's \"Love in the Time of Money\" is...</td>\n",
       "      <td>positive</td>\n",
       "      <td>{'neg': 0.052, 'neu': 0.786, 'pos': 0.162, 'co...</td>\n",
       "      <td>0.9803</td>\n",
       "      <td>positive</td>\n",
       "    </tr>\n",
       "  </tbody>\n",
       "</table>\n",
       "</div>"
      ],
      "text/plain": [
       "                                              review sentiment  \\\n",
       "0  One of the other reviewers has mentioned that ...  positive   \n",
       "1  A wonderful little production.   The filming t...  positive   \n",
       "2  I thought this was a wonderful way to spend ti...  positive   \n",
       "3  Basically there's a family where a little boy ...  negative   \n",
       "4  Petter Mattei's \"Love in the Time of Money\" is...  positive   \n",
       "\n",
       "                                              scores  compound comp_score  \n",
       "0  {'neg': 0.206, 'neu': 0.745, 'pos': 0.049, 'co...   -0.9951   negative  \n",
       "1  {'neg': 0.055, 'neu': 0.768, 'pos': 0.177, 'co...    0.9641   positive  \n",
       "2  {'neg': 0.093, 'neu': 0.689, 'pos': 0.218, 'co...    0.9780   positive  \n",
       "3  {'neg': 0.14, 'neu': 0.773, 'pos': 0.088, 'com...   -0.8819   negative  \n",
       "4  {'neg': 0.052, 'neu': 0.786, 'pos': 0.162, 'co...    0.9803   positive  "
      ]
     },
     "execution_count": 116,
     "metadata": {},
     "output_type": "execute_result"
    }
   ],
   "source": [
    "movie_reviews['scores'] = movie_reviews['review'].apply(lambda review: sia.polarity_scores(review))\n",
    "movie_reviews['compound']  = movie_reviews['scores'].apply(lambda scores: scores['compound'])\n",
    "movie_reviews['comp_score'] = movie_reviews['compound'].apply(lambda compound: 'positive' if compound >=0 else 'negative')\n",
    "movie_reviews.head()"
   ]
  },
  {
   "cell_type": "code",
   "execution_count": 117,
   "id": "023d7b8d",
   "metadata": {
    "scrolled": false
   },
   "outputs": [
    {
     "data": {
      "text/html": [
       "<div>\n",
       "<style scoped>\n",
       "    .dataframe tbody tr th:only-of-type {\n",
       "        vertical-align: middle;\n",
       "    }\n",
       "\n",
       "    .dataframe tbody tr th {\n",
       "        vertical-align: top;\n",
       "    }\n",
       "\n",
       "    .dataframe thead th {\n",
       "        text-align: right;\n",
       "    }\n",
       "</style>\n",
       "<table border=\"1\" class=\"dataframe\">\n",
       "  <thead>\n",
       "    <tr style=\"text-align: right;\">\n",
       "      <th></th>\n",
       "      <th>review</th>\n",
       "      <th>sentiment</th>\n",
       "      <th>scores</th>\n",
       "      <th>compound</th>\n",
       "      <th>comp_score</th>\n",
       "    </tr>\n",
       "  </thead>\n",
       "  <tbody>\n",
       "    <tr>\n",
       "      <th>42946</th>\n",
       "      <td>By now you've probably heard a bit about the n...</td>\n",
       "      <td>positive</td>\n",
       "      <td>{'neg': 0.048, 'neu': 0.744, 'pos': 0.209, 'co...</td>\n",
       "      <td>0.9999</td>\n",
       "      <td>positive</td>\n",
       "    </tr>\n",
       "    <tr>\n",
       "      <th>29425</th>\n",
       "      <td>By 1987 Hong Kong had given the world such fil...</td>\n",
       "      <td>positive</td>\n",
       "      <td>{'neg': 0.073, 'neu': 0.679, 'pos': 0.248, 'co...</td>\n",
       "      <td>0.9998</td>\n",
       "      <td>positive</td>\n",
       "    </tr>\n",
       "    <tr>\n",
       "      <th>28525</th>\n",
       "      <td>Jim Carrey is back to much the same role that ...</td>\n",
       "      <td>positive</td>\n",
       "      <td>{'neg': 0.059, 'neu': 0.698, 'pos': 0.243, 'co...</td>\n",
       "      <td>0.9998</td>\n",
       "      <td>positive</td>\n",
       "    </tr>\n",
       "    <tr>\n",
       "      <th>37860</th>\n",
       "      <td>My Comments for VIVAH :- Its a charming, ideal...</td>\n",
       "      <td>positive</td>\n",
       "      <td>{'neg': 0.035, 'neu': 0.701, 'pos': 0.263, 'co...</td>\n",
       "      <td>0.9998</td>\n",
       "      <td>positive</td>\n",
       "    </tr>\n",
       "    <tr>\n",
       "      <th>16498</th>\n",
       "      <td>The quintessential Georgian film of Georgi Dan...</td>\n",
       "      <td>positive</td>\n",
       "      <td>{'neg': 0.037, 'neu': 0.684, 'pos': 0.279, 'co...</td>\n",
       "      <td>0.9998</td>\n",
       "      <td>positive</td>\n",
       "    </tr>\n",
       "    <tr>\n",
       "      <th>...</th>\n",
       "      <td>...</td>\n",
       "      <td>...</td>\n",
       "      <td>...</td>\n",
       "      <td>...</td>\n",
       "      <td>...</td>\n",
       "    </tr>\n",
       "    <tr>\n",
       "      <th>4864</th>\n",
       "      <td>**SPOILERS**Actually based on the novel \"The B...</td>\n",
       "      <td>positive</td>\n",
       "      <td>{'neg': 0.241, 'neu': 0.685, 'pos': 0.074, 'co...</td>\n",
       "      <td>-0.9996</td>\n",
       "      <td>negative</td>\n",
       "    </tr>\n",
       "    <tr>\n",
       "      <th>36200</th>\n",
       "      <td>Orca starts as crusty Irish sea captain Nolan ...</td>\n",
       "      <td>negative</td>\n",
       "      <td>{'neg': 0.273, 'neu': 0.646, 'pos': 0.081, 'co...</td>\n",
       "      <td>-0.9996</td>\n",
       "      <td>negative</td>\n",
       "    </tr>\n",
       "    <tr>\n",
       "      <th>21342</th>\n",
       "      <td>The main achievement of this film is that thou...</td>\n",
       "      <td>positive</td>\n",
       "      <td>{'neg': 0.212, 'neu': 0.713, 'pos': 0.075, 'co...</td>\n",
       "      <td>-0.9996</td>\n",
       "      <td>negative</td>\n",
       "    </tr>\n",
       "    <tr>\n",
       "      <th>45221</th>\n",
       "      <td>\"Nobi\" or \"Fires On the Plain\" is a film that ...</td>\n",
       "      <td>positive</td>\n",
       "      <td>{'neg': 0.271, 'neu': 0.652, 'pos': 0.078, 'co...</td>\n",
       "      <td>-0.9997</td>\n",
       "      <td>negative</td>\n",
       "    </tr>\n",
       "    <tr>\n",
       "      <th>7602</th>\n",
       "      <td>The Bone Collector is set in New York City &amp; s...</td>\n",
       "      <td>negative</td>\n",
       "      <td>{'neg': 0.246, 'neu': 0.703, 'pos': 0.051, 'co...</td>\n",
       "      <td>-0.9998</td>\n",
       "      <td>negative</td>\n",
       "    </tr>\n",
       "  </tbody>\n",
       "</table>\n",
       "<p>50000 rows × 5 columns</p>\n",
       "</div>"
      ],
      "text/plain": [
       "                                                  review sentiment  \\\n",
       "42946  By now you've probably heard a bit about the n...  positive   \n",
       "29425  By 1987 Hong Kong had given the world such fil...  positive   \n",
       "28525  Jim Carrey is back to much the same role that ...  positive   \n",
       "37860  My Comments for VIVAH :- Its a charming, ideal...  positive   \n",
       "16498  The quintessential Georgian film of Georgi Dan...  positive   \n",
       "...                                                  ...       ...   \n",
       "4864   **SPOILERS**Actually based on the novel \"The B...  positive   \n",
       "36200  Orca starts as crusty Irish sea captain Nolan ...  negative   \n",
       "21342  The main achievement of this film is that thou...  positive   \n",
       "45221  \"Nobi\" or \"Fires On the Plain\" is a film that ...  positive   \n",
       "7602   The Bone Collector is set in New York City & s...  negative   \n",
       "\n",
       "                                                  scores  compound comp_score  \n",
       "42946  {'neg': 0.048, 'neu': 0.744, 'pos': 0.209, 'co...    0.9999   positive  \n",
       "29425  {'neg': 0.073, 'neu': 0.679, 'pos': 0.248, 'co...    0.9998   positive  \n",
       "28525  {'neg': 0.059, 'neu': 0.698, 'pos': 0.243, 'co...    0.9998   positive  \n",
       "37860  {'neg': 0.035, 'neu': 0.701, 'pos': 0.263, 'co...    0.9998   positive  \n",
       "16498  {'neg': 0.037, 'neu': 0.684, 'pos': 0.279, 'co...    0.9998   positive  \n",
       "...                                                  ...       ...        ...  \n",
       "4864   {'neg': 0.241, 'neu': 0.685, 'pos': 0.074, 'co...   -0.9996   negative  \n",
       "36200  {'neg': 0.273, 'neu': 0.646, 'pos': 0.081, 'co...   -0.9996   negative  \n",
       "21342  {'neg': 0.212, 'neu': 0.713, 'pos': 0.075, 'co...   -0.9996   negative  \n",
       "45221  {'neg': 0.271, 'neu': 0.652, 'pos': 0.078, 'co...   -0.9997   negative  \n",
       "7602   {'neg': 0.246, 'neu': 0.703, 'pos': 0.051, 'co...   -0.9998   negative  \n",
       "\n",
       "[50000 rows x 5 columns]"
      ]
     },
     "execution_count": 117,
     "metadata": {},
     "output_type": "execute_result"
    }
   ],
   "source": [
    "movie_reviews.sort_values(by='compound',ascending = False)#.get('review').iloc[0]"
   ]
  },
  {
   "cell_type": "code",
   "execution_count": 169,
   "id": "f48a94c1",
   "metadata": {},
   "outputs": [
    {
     "name": "stdout",
     "output_type": "stream",
     "text": [
      "Correctly identified as positive: 21447 (42.9%)\n",
      "Correctly identified as negative: 13436 (26.900000000000002%)\n",
      "Incorrectly identified as positive: 11564 (23.1%)\n",
      "Incorrectly identified as negative: 3553 (7.1%)\n"
     ]
    }
   ],
   "source": [
    "pos_pos = movie_reviews[(movie_reviews.get('sentiment') == 'positive') & (movie_reviews.get('comp_score') == 'positive')].shape[0]\n",
    "print('Correctly identified as positive: '  + \\\n",
    "      str(pos_pos) \\\n",
    "      + ' (' + str(round(pos_pos / movie_reviews.shape[0], 3) * 100) \\\n",
    "      + '%)')\n",
    "\n",
    "neg_neg = movie_reviews[(movie_reviews.get('sentiment') == 'negative') & (movie_reviews.get('comp_score') == 'negative')].shape[0]\n",
    "print('Correctly identified as negative: '  + \\\n",
    "      str(neg_neg) \\\n",
    "      + ' (' + str(round(neg_neg / movie_reviews.shape[0], 3) * 100) \\\n",
    "      + '%)')\n",
    "\n",
    "neg_pos = movie_reviews[(movie_reviews.get('sentiment') == 'negative') & (movie_reviews.get('comp_score') == 'positive')].shape[0]\n",
    "print('Incorrectly identified as positive: '  + \\\n",
    "      str(neg_pos) \\\n",
    "      + ' (' + str(round(neg_pos / movie_reviews.shape[0], 3) * 100) \\\n",
    "      + '%)')\n",
    "\n",
    "pos_neg = movie_reviews[(movie_reviews.get('sentiment') == 'positive') & (movie_reviews.get('comp_score') == 'negative')].shape[0]\n",
    "print('Incorrectly identified as negative: '  + \\\n",
    "      str(pos_neg) \\\n",
    "      + ' (' + str(round(pos_neg / movie_reviews.shape[0], 3) * 100) \\\n",
    "      + '%)')"
   ]
  },
  {
   "cell_type": "code",
   "execution_count": 198,
   "id": "b4e7dc76",
   "metadata": {},
   "outputs": [],
   "source": [
    "int_pos = movie_reviews[(movie_reviews.get('sentiment') == 'positive')].shape[0]\n",
    "int_neg = movie_reviews[(movie_reviews.get('sentiment') == 'negative')].shape[0]\n",
    "nltk_pos = movie_reviews[(movie_reviews.get('comp_score') == 'positive')].shape[0]\n",
    "nltk_neg = movie_reviews[(movie_reviews.get('comp_score') == 'negative')].shape[0]"
   ]
  },
  {
   "cell_type": "markdown",
   "id": "a26f3f1d",
   "metadata": {},
   "source": [
    "### visualizations"
   ]
  },
  {
   "cell_type": "code",
   "execution_count": 203,
   "id": "a5095bba",
   "metadata": {
    "scrolled": false
   },
   "outputs": [
    {
     "data": {
      "image/png": "[encoded data removed]",
      "text/plain": [
       "<Figure size 600x500 with 1 Axes>"
      ]
     },
     "metadata": {},
     "output_type": "display_data"
    }
   ],
   "source": [
    "vis_df = pd.DataFrame({'counts': [pos_pos, neg_neg, neg_pos, pos_neg]}, index = ['pos_pos', 'neg_neg', 'neg_pos', 'pos_neg'])\n",
    "plt.figure(figsize=(6,5))\n",
    "ax = sns.barplot(x= vis_df.index, y='counts', data=vis_df, order = ['pos_pos', 'neg_neg', 'neg_pos', 'pos_neg']).set(title='(Mis)Classifications between Given/Initial and NTLK Output')"
   ]
  },
  {
   "cell_type": "code",
   "execution_count": 206,
   "id": "357a3918",
   "metadata": {},
   "outputs": [
    {
     "data": {
      "image/png": "[encoded data removed]",
      "text/plain": [
       "<Figure size 600x500 with 1 Axes>"
      ]
     },
     "metadata": {},
     "output_type": "display_data"
    }
   ],
   "source": [
    "vis_df2 = pd.DataFrame({'counts': [int_pos, nltk_pos, int_neg, nltk_neg]}, index = ['int_pos', 'nltk_pos', 'int_neg', 'nltk_neg'])\n",
    "plt.figure(figsize=(6,5))\n",
    "ax = sns.barplot(x= vis_df2.index, y='counts', data=vis_df2, order = ['int_pos', 'nltk_pos', 'int_neg', 'nltk_neg']).set(title='Difference in Classifications between Given/Initial and NTLK Output')"
   ]
  },
  {
   "cell_type": "markdown",
   "id": "be249367",
   "metadata": {},
   "source": [
    "### conclusion"
   ]
  },
  {
   "cell_type": "markdown",
   "id": "a1198001",
   "metadata": {},
   "source": [
    "Utilziing NTLK's SentimentIntensityAnalyzer, I created a model which misclassified nearly 30% of the 50,000 IMDB reviews which had initial classifications of either positive or negative. It is also readily apparent that NLTK's errors classified more reviews as positive than negative. I would like to thank Aditya Beri for his article, \"SENTIMENTAL ANALYSIS USING VADER.\" and Rob Mulla for his YouTube tutorial using NLTK to classify Amazon reviews."
   ]
  }
 ],
 "metadata": {
  "kernelspec": {
   "display_name": "Python 3 (ipykernel)",
   "language": "python",
   "name": "python3"
  },
  "language_info": {
   "codemirror_mode": {
    "name": "ipython",
    "version": 3
   },
   "file_extension": ".py",
   "mimetype": "text/x-python",
   "name": "python",
   "nbconvert_exporter": "python",
   "pygments_lexer": "ipython3",
   "version": "3.9.13"
  }
 },
 "nbformat": 4,
 "nbformat_minor": 5
}
